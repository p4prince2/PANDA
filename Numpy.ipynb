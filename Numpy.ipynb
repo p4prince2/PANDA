{
 "cells": [
  {
   "cell_type": "markdown",
   "id": "f80cb0fe-b360-40e5-880d-68eecdb5299d",
   "metadata": {},
   "source": [
    "## Numpy"
   ]
  },
  {
   "cell_type": "code",
   "execution_count": 2,
   "id": "9218bb79-9598-4042-aa7a-9f0f18759625",
   "metadata": {},
   "outputs": [],
   "source": [
    "## pip install numpy"
   ]
  },
  {
   "cell_type": "code",
   "execution_count": 1,
   "id": "02b8b962-8e04-45b7-916c-e9bde4fefb9f",
   "metadata": {},
   "outputs": [],
   "source": [
    "import numpy as np"
   ]
  },
  {
   "cell_type": "code",
   "execution_count": 3,
   "id": "a5e53c0a-ea0e-49ad-9fcc-58914021fc20",
   "metadata": {},
   "outputs": [
    {
     "name": "stdout",
     "output_type": "stream",
     "text": [
      "int32\n"
     ]
    }
   ],
   "source": [
    "### data type\n",
    "a = np.array([1,2,3,4,5])\n",
    "print(a.dtype)"
   ]
  },
  {
   "cell_type": "code",
   "execution_count": 2,
   "id": "7e0525b0-1fb3-44ad-8185-0b96869ea2f9",
   "metadata": {},
   "outputs": [
    {
     "name": "stdout",
     "output_type": "stream",
     "text": [
      "1\n"
     ]
    }
   ],
   "source": [
    "### dimension\n",
    "a = np.array([1,2,3,4,5])\n",
    "print(a.ndim)"
   ]
  },
  {
   "cell_type": "code",
   "execution_count": 3,
   "id": "9689243a-9c8c-4f30-98aa-a05457ec2511",
   "metadata": {},
   "outputs": [
    {
     "name": "stdout",
     "output_type": "stream",
     "text": [
      "2\n"
     ]
    }
   ],
   "source": [
    "a = np.array([[1,2,4,5],[2,3,8,9]])\n",
    "print(a.ndim)"
   ]
  },
  {
   "cell_type": "code",
   "execution_count": 4,
   "id": "eff0acb1-cba2-40a3-ab4a-9ebb5e62cd1d",
   "metadata": {},
   "outputs": [
    {
     "name": "stdout",
     "output_type": "stream",
     "text": [
      "2\n",
      "[[1. 2. 4. 5.]\n",
      " [2. 3. 8. 9.]]\n"
     ]
    }
   ],
   "source": [
    "a = np.array([[1,2,4,5],[2,3,8,9]],dtype='float')\n",
    "print(a.ndim)\n",
    "print(a)"
   ]
  },
  {
   "cell_type": "code",
   "execution_count": 4,
   "id": "bd772316-2e9e-49ec-ad39-b2ca7621df2b",
   "metadata": {},
   "outputs": [
    {
     "name": "stdout",
     "output_type": "stream",
     "text": [
      "[[0 0 0 0 0 0 0]\n",
      " [0 0 0 0 0 0 0]\n",
      " [0 0 0 0 0 0 0]\n",
      " [0 0 0 0 0 0 0]\n",
      " [0 0 0 0 0 0 0]]\n"
     ]
    }
   ],
   "source": [
    "### making array\n",
    "z = np.zeros((5,7),dtype=int)\n",
    "print(z)"
   ]
  },
  {
   "cell_type": "code",
   "execution_count": 5,
   "id": "183be310-b441-42aa-9b42-99d069e5419b",
   "metadata": {},
   "outputs": [
    {
     "name": "stdout",
     "output_type": "stream",
     "text": [
      "[[1. 1. 1. 1. 1. 1. 1.]\n",
      " [1. 1. 1. 1. 1. 1. 1.]\n",
      " [1. 1. 1. 1. 1. 1. 1.]\n",
      " [1. 1. 1. 1. 1. 1. 1.]\n",
      " [1. 1. 1. 1. 1. 1. 1.]]\n"
     ]
    }
   ],
   "source": [
    "z = np.ones((5,7))\n",
    "print(z)"
   ]
  },
  {
   "cell_type": "code",
   "execution_count": 2,
   "id": "6ee18c15-9494-4345-bfe2-c7bd01afeba5",
   "metadata": {},
   "outputs": [
    {
     "name": "stdout",
     "output_type": "stream",
     "text": [
      "[[8 8 8 8 8 8 8]\n",
      " [8 8 8 8 8 8 8]\n",
      " [8 8 8 8 8 8 8]\n",
      " [8 8 8 8 8 8 8]\n",
      " [8 8 8 8 8 8 8]]\n"
     ]
    }
   ],
   "source": [
    "z = np.full((5,7),8)\n",
    "print(z)"
   ]
  },
  {
   "cell_type": "code",
   "execution_count": 8,
   "id": "ae0fd2d2-ddf6-4939-b080-00cdc3c52955",
   "metadata": {},
   "outputs": [
    {
     "name": "stdout",
     "output_type": "stream",
     "text": [
      "[[6. 6. 6. 6. 6. 6. 6.]\n",
      " [6. 6. 6. 6. 6. 6. 6.]\n",
      " [6. 6. 6. 6. 6. 6. 6.]\n",
      " [6. 6. 6. 6. 6. 6. 6.]\n",
      " [6. 6. 6. 6. 6. 6. 6.]]\n"
     ]
    }
   ],
   "source": [
    "z = np.full((5,7),6,dtype='float')\n",
    "print(z)"
   ]
  },
  {
   "cell_type": "code",
   "execution_count": 27,
   "id": "d45d7251-6b96-49d3-8bb5-95504e6ba0a1",
   "metadata": {},
   "outputs": [
    {
     "name": "stdout",
     "output_type": "stream",
     "text": [
      "[ 1  2  3  4  5  6  7  8  9 10 11 12 13 14]\n"
     ]
    }
   ],
   "source": [
    "r = np.arange(1,15,1)\n",
    "print(r)"
   ]
  },
  {
   "cell_type": "code",
   "execution_count": 10,
   "id": "0ac72ad3-07de-4ccd-aa2b-009d785cbce2",
   "metadata": {},
   "outputs": [
    {
     "name": "stdout",
     "output_type": "stream",
     "text": [
      "[ 2  4  6  8 10 12 14]\n"
     ]
    }
   ],
   "source": [
    "r = np.arange(2,15,2)\n",
    "print(r)"
   ]
  },
  {
   "cell_type": "code",
   "execution_count": 9,
   "id": "26d59774-a378-4221-b208-cef149f783ae",
   "metadata": {},
   "outputs": [
    {
     "name": "stdout",
     "output_type": "stream",
     "text": [
      "[ 2  4  6  8 10 12 14]\n",
      "6\n"
     ]
    }
   ],
   "source": [
    "### indexing\n",
    "r = np.arange(2,15,2)\n",
    "print(r)\n",
    "print(r[2])"
   ]
  },
  {
   "cell_type": "code",
   "execution_count": 9,
   "id": "fdc31ab1-5f23-44ef-8960-9d8bb011b006",
   "metadata": {},
   "outputs": [
    {
     "name": "stdout",
     "output_type": "stream",
     "text": [
      "[[ 1  2  3  4  5  6]\n",
      " [ 7  8  9 10 11 12]]\n"
     ]
    }
   ],
   "source": [
    "##reshape\n",
    "##convert 1d to 2-d\n",
    "f = np.arange(1,13,1).reshape((2,6))\n",
    "print(f)"
   ]
  },
  {
   "cell_type": "code",
   "execution_count": 10,
   "id": "c73c35ee-8272-4c31-b432-b3cf55e4ea0f",
   "metadata": {},
   "outputs": [
    {
     "name": "stdout",
     "output_type": "stream",
     "text": [
      "[[ 1  3  5]\n",
      " [ 7  9 11]]\n"
     ]
    }
   ],
   "source": [
    "f = np.arange(1,13,2).reshape((2,3))\n",
    "print(f)"
   ]
  },
  {
   "cell_type": "code",
   "execution_count": 7,
   "id": "0c919475-9d7a-4f32-bcb3-ce5570f453cb",
   "metadata": {},
   "outputs": [
    {
     "name": "stdout",
     "output_type": "stream",
     "text": [
      "[6. 6. 6. 6. 6. 6.]\n"
     ]
    }
   ],
   "source": [
    "## 2d-1d\n",
    "z = np.full((2,3),6,dtype='float').flatten()\n",
    "print(z)"
   ]
  },
  {
   "cell_type": "code",
   "execution_count": 11,
   "id": "38515601-3b52-4632-93a1-38aaadc306ac",
   "metadata": {},
   "outputs": [
    {
     "name": "stdout",
     "output_type": "stream",
     "text": [
      "[6. 6. 6. 6. 6. 6. 6. 6. 6. 6. 6. 6. 6. 6. 6. 6. 6. 6. 6. 6.]\n"
     ]
    }
   ],
   "source": [
    "z = np.full((4,5),6,dtype='float').flatten()\n",
    "print(z)"
   ]
  },
  {
   "cell_type": "code",
   "execution_count": 14,
   "id": "227e77af-2486-40d1-a6c3-a737f7cedac5",
   "metadata": {},
   "outputs": [
    {
     "name": "stdout",
     "output_type": "stream",
     "text": [
      "3\n"
     ]
    }
   ],
   "source": [
    "##indeing\n",
    "a = np.array([[2,3],[4,5]])\n",
    "print(a[0,1])"
   ]
  },
  {
   "cell_type": "code",
   "execution_count": 25,
   "id": "bd1b092e-77a0-4c71-aa3c-8bdb14a62f5c",
   "metadata": {},
   "outputs": [
    {
     "name": "stdout",
     "output_type": "stream",
     "text": [
      "[ 2  3  4  5  6  7  8  9 10 11 12 13 14]\n",
      "[ 3  5  7  9 11 13]\n"
     ]
    }
   ],
   "source": [
    "##slicing\n",
    "r = np.arange(2,15,2)\n",
    "print(r)\n",
    "print(r[1::2])"
   ]
  },
  {
   "cell_type": "code",
   "execution_count": 16,
   "id": "0d789f61-88e9-409f-86f4-b1d7f675c7d2",
   "metadata": {},
   "outputs": [
    {
     "name": "stdout",
     "output_type": "stream",
     "text": [
      "[4 9]\n",
      "[15  2  8]\n"
     ]
    }
   ],
   "source": [
    "##slicing 2-d array\n",
    "a= np.array([[2,4,7,9],[11,15,2,8]])\n",
    "print(a[0,1::2])\n",
    "print(a[1,1::1])\n",
    "\n"
   ]
  },
  {
   "cell_type": "code",
   "execution_count": 18,
   "id": "9ac55521-b3e0-48b2-801b-644a5c4e0a16",
   "metadata": {},
   "outputs": [
    {
     "name": "stdout",
     "output_type": "stream",
     "text": [
      "[[8 3 1]\n",
      " [2 4 6]\n",
      " [8 2 6]]\n",
      "[[8 3 1]\n",
      " [2 4 6]\n",
      " [8 2 6]]\n"
     ]
    }
   ],
   "source": [
    "## view\n",
    "a=np.array([[5,3,1],[2,4,6],[8,2,6]])\n",
    "b = a.view()\n",
    "a[0,0]= 8\n",
    "print(a)\n",
    "print(b)"
   ]
  },
  {
   "cell_type": "code",
   "execution_count": 19,
   "id": "0c49fdd1-d75e-4def-9cd7-de0605c19878",
   "metadata": {},
   "outputs": [
    {
     "name": "stdout",
     "output_type": "stream",
     "text": [
      "[[8 3 1]\n",
      " [2 4 6]\n",
      " [8 2 6]]\n",
      "[[5 3 1]\n",
      " [2 4 6]\n",
      " [8 2 6]]\n"
     ]
    }
   ],
   "source": [
    "##copy\n",
    "a=np.array([[5,3,1],[2,4,6],[8,2,6]])\n",
    "b = a.copy()\n",
    "a[0,0]= 8\n",
    "print(a)\n",
    "print(b)"
   ]
  },
  {
   "cell_type": "code",
   "execution_count": 20,
   "id": "3d6ec88e-50f8-4fd9-aa94-0ec05b91fe9e",
   "metadata": {},
   "outputs": [
    {
     "name": "stdout",
     "output_type": "stream",
     "text": [
      "2\n",
      "3\n",
      "4\n",
      "9\n",
      "0\n",
      "11\n"
     ]
    }
   ],
   "source": [
    "a=np.array([[2,3,4],[9,0,11]])\n",
    "for i in np.nditer(a):\n",
    "    print(i)"
   ]
  },
  {
   "cell_type": "code",
   "execution_count": 22,
   "id": "4b5f0174-4e41-4876-8d5c-6b1b65860a7d",
   "metadata": {},
   "outputs": [
    {
     "name": "stdout",
     "output_type": "stream",
     "text": [
      "(0, 0) 2\n",
      "(0, 1) 3\n",
      "(0, 2) 4\n",
      "(1, 0) 9\n",
      "(1, 1) 0\n",
      "(1, 2) 11\n"
     ]
    }
   ],
   "source": [
    "a=np.array([[2,3,4],[9,0,11]])\n",
    "\n",
    "for idx,val in np.ndenumerate(a):\n",
    "    print(idx,val)"
   ]
  },
  {
   "cell_type": "code",
   "execution_count": 29,
   "id": "bb776113-bb9a-4f6e-b33b-0546994942e0",
   "metadata": {},
   "outputs": [
    {
     "name": "stdout",
     "output_type": "stream",
     "text": [
      "[ 2  2  4  7  9 10 14 16 18]\n"
     ]
    }
   ],
   "source": [
    "### sorting of array\n",
    "a=np.array([2,14,10,18,2,7,16,9,4])\n",
    "a = np.sort(a)\n",
    "print(a)"
   ]
  },
  {
   "cell_type": "code",
   "execution_count": 11,
   "id": "5627141a-42c2-416f-a1d9-3128b6b39686",
   "metadata": {},
   "outputs": [
    {
     "name": "stdout",
     "output_type": "stream",
     "text": [
      "[18 16 14 10  9  7  4  2  2]\n"
     ]
    }
   ],
   "source": [
    "### sorting of array\n",
    "a=np.array([2,14,10,18,2,7,16,9,4])\n",
    "a = np.sort(a)[::-1]\n",
    "print(a)\n"
   ]
  },
  {
   "cell_type": "code",
   "execution_count": 12,
   "id": "d929a91a-05ca-4a86-97fb-7686b8c258f7",
   "metadata": {},
   "outputs": [
    {
     "name": "stdout",
     "output_type": "stream",
     "text": [
      "[[11 12 15]\n",
      " [20 21 25]\n",
      " [16 18 27]]\n"
     ]
    }
   ],
   "source": [
    "x=np.array([[12,11,15],\n",
    "            [21,25,20],\n",
    "            [18,27,16]])\n",
    "x=np.sort(x)\n",
    "print(x)"
   ]
  },
  {
   "cell_type": "code",
   "execution_count": 14,
   "id": "99c6f462-8eff-4fda-899d-42c47f59cf12",
   "metadata": {},
   "outputs": [
    {
     "name": "stdout",
     "output_type": "stream",
     "text": [
      "[[12 11 15]\n",
      " [18 25 16]\n",
      " [21 27 20]]\n"
     ]
    }
   ],
   "source": [
    "x=np.array([[12,11,15],\n",
    "            [21,25,20],\n",
    "            [18,27,16]])\n",
    "\n",
    "x=np.sort(x,axis=0) ### axis=0- column , axis-1 row\n",
    "print(x)\n"
   ]
  },
  {
   "cell_type": "code",
   "execution_count": 30,
   "id": "ca7cd31e-07a3-4d19-a356-e4c1f1625bb8",
   "metadata": {},
   "outputs": [
    {
     "name": "stdout",
     "output_type": "stream",
     "text": [
      "[[ 7 16 13]\n",
      " [17 10 26]]\n"
     ]
    }
   ],
   "source": [
    "### matrix manipulation\n",
    "\n",
    "a= np.array([[2,3,4],[9,0,11]])\n",
    "b= np.array([[5,13,9],[8,10,15]])\n",
    "print(a+b)"
   ]
  },
  {
   "cell_type": "code",
   "execution_count": 31,
   "id": "051dbcb8-eaff-47e0-8b0a-9f7a5bcc9ff4",
   "metadata": {},
   "outputs": [
    {
     "name": "stdout",
     "output_type": "stream",
     "text": [
      "[[ -3 -10  -5]\n",
      " [  1 -10  -4]]\n"
     ]
    }
   ],
   "source": [
    "a= np.array([[2,3,4],[9,0,11]])\n",
    "b= np.array([[5,13,9],[8,10,15]])\n",
    "print(a-b)"
   ]
  },
  {
   "cell_type": "code",
   "execution_count": 8,
   "id": "12abfe15-2edd-4dd8-83bf-cdb017227170",
   "metadata": {},
   "outputs": [
    {
     "name": "stdout",
     "output_type": "stream",
     "text": [
      "[[ 10  39  36]\n",
      " [ 72   0 165]]\n"
     ]
    }
   ],
   "source": [
    "a= np.array([[2,3,4],[9,0,11]])\n",
    "b= np.array([[5,13,9],[8,10,15]])\n",
    "print(a*b)"
   ]
  },
  {
   "cell_type": "code",
   "execution_count": 12,
   "id": "b3dc0ab2-89d6-458b-897c-c40eafa04eea",
   "metadata": {},
   "outputs": [
    {
     "name": "stdout",
     "output_type": "stream",
     "text": [
      "[[ 42  88  75]\n",
      " [ 67 205 114]]\n"
     ]
    }
   ],
   "source": [
    "### matrixx multiplication dot product\n",
    "a= np.array([[2,3,4],[9,0,11]])\n",
    "b= np.array([[5,13,9],[8,10,15],[2,8,3]])\n",
    "print(a.dot(b))"
   ]
  },
  {
   "cell_type": "code",
   "execution_count": 22,
   "id": "6c72cd23-0940-403d-8506-f63f484a44de",
   "metadata": {},
   "outputs": [
    {
     "name": "stdout",
     "output_type": "stream",
     "text": [
      "[ 47 102]\n"
     ]
    }
   ],
   "source": [
    "### matrixx multiplication dot product  (colunm == row)\n",
    "a= np.array([[2,3,4],[9,0,11]])\n",
    "b= np.array([4,5,6])\n",
    "print(a.dot(b))"
   ]
  },
  {
   "cell_type": "code",
   "execution_count": 29,
   "id": "aaced896-3eda-4b67-8b7d-c5cf0d74152e",
   "metadata": {},
   "outputs": [
    {
     "name": "stdout",
     "output_type": "stream",
     "text": [
      "[[-0.25  1.25]\n",
      " [ 0.5  -1.5 ]]\n"
     ]
    }
   ],
   "source": [
    "### inverse\n",
    "x=np.array([[6,5],[2,1]])\n",
    "y= np.linalg.inv(x)\n",
    "print(y)"
   ]
  },
  {
   "cell_type": "code",
   "execution_count": 30,
   "id": "74e80df4-1577-4a2f-a3c7-9d2f83a92663",
   "metadata": {},
   "outputs": [
    {
     "name": "stdout",
     "output_type": "stream",
     "text": [
      "[[3. 2. 6.]\n",
      " [1. 1. 2.]\n",
      " [2. 2. 5.]]\n"
     ]
    }
   ],
   "source": [
    " ### inverse\n",
    "x=np.array([[1,2,-2],[-1,3,0],[0,-2,1]])\n",
    "y= np.linalg.inv(x)\n",
    "print(y)"
   ]
  },
  {
   "cell_type": "code",
   "execution_count": 31,
   "id": "7de30ffe-c643-4c91-a885-49d5ff08eb25",
   "metadata": {},
   "outputs": [
    {
     "name": "stdout",
     "output_type": "stream",
     "text": [
      "[[ 2  9]\n",
      " [ 3  0]\n",
      " [ 4 11]]\n"
     ]
    }
   ],
   "source": [
    "## tranpose matrix\n",
    "a= np.array([[2,3,4],[9,0,11]])\n",
    "print(np.transpose(a))"
   ]
  },
  {
   "cell_type": "code",
   "execution_count": 3,
   "id": "9f091c38-ee26-474e-ba9c-3e268cbc92cd",
   "metadata": {},
   "outputs": [
    {
     "name": "stdout",
     "output_type": "stream",
     "text": [
      "[[ 2  3  4]\n",
      " [ 9  0 11]]\n",
      "2\n"
     ]
    }
   ],
   "source": [
    "## trace\n",
    "a= np.array([[2,3,4],[9,0,11]])\n",
    "print(a)\n",
    "print(np.trace(a)) # 2+0\n"
   ]
  },
  {
   "cell_type": "code",
   "execution_count": 4,
   "id": "c5287021-9c60-4262-b58d-352959fe30f9",
   "metadata": {},
   "outputs": [
    {
     "name": "stdout",
     "output_type": "stream",
     "text": [
      "[[ 2  3  4]\n",
      " [ 9  0 11]\n",
      " [ 2  6  9]]\n",
      "11\n"
     ]
    }
   ],
   "source": [
    "a= np.array([[2,3,4],[9,0,11],[2,6,9]])\n",
    "print(a)\n",
    "print(np.trace(a))"
   ]
  },
  {
   "cell_type": "code",
   "execution_count": 36,
   "id": "d6c22062-2936-4661-a1f1-557cc7f7380e",
   "metadata": {},
   "outputs": [
    {
     "name": "stdout",
     "output_type": "stream",
     "text": [
      "[ 1  9 17 25 33 41 49]\n",
      "(array([5], dtype=int64),)\n"
     ]
    }
   ],
   "source": [
    "##searching - where\n",
    "a= np.arange(1,50,8)\n",
    "print(a)\n",
    "print(np.where(a==41))"
   ]
  },
  {
   "cell_type": "code",
   "execution_count": 37,
   "id": "c21a961b-6906-46a5-b430-e546440720eb",
   "metadata": {},
   "outputs": [
    {
     "name": "stdout",
     "output_type": "stream",
     "text": [
      "[41 41  5]\n",
      "(array([2], dtype=int64),)\n"
     ]
    }
   ],
   "source": [
    "##searching\n",
    "a= np.array([41,41,5])\n",
    "print(a)\n",
    "print(np.where(a<41))"
   ]
  },
  {
   "cell_type": "code",
   "execution_count": 38,
   "id": "a4d6aafc-ca12-4c40-a0ea-75f85e06c539",
   "metadata": {},
   "outputs": [
    {
     "name": "stdout",
     "output_type": "stream",
     "text": [
      "4.666666666666667\n",
      "4.666666666666667\n",
      "4.5\n",
      "4.166666666666666\n"
     ]
    }
   ],
   "source": [
    "a=np.array([1,2,4,5,7,9])\n",
    "print(np.mean(a))\n",
    "print(np.average(a))\n",
    "print(np.median(a))\n",
    "## mode = 3median - 2mean\n",
    "print(3*np.median(a)-2*np.mean(a))"
   ]
  },
  {
   "cell_type": "code",
   "execution_count": 39,
   "id": "0661b4b0-61e0-4036-bfa3-392f786f6985",
   "metadata": {},
   "outputs": [
    {
     "name": "stdout",
     "output_type": "stream",
     "text": [
      "2.0\n",
      "1.4142135623730951\n"
     ]
    }
   ],
   "source": [
    "### variance ## standard deviation\n",
    "a = np.array([1,2,3,4,5])\n",
    "var = np.var(a)\n",
    "std = np.std(a)\n",
    "print(var)\n",
    "print(std)"
   ]
  },
  {
   "cell_type": "code",
   "execution_count": null,
   "id": "6507cd1a-715f-41d0-890b-892a0378a290",
   "metadata": {},
   "outputs": [],
   "source": []
  }
 ],
 "metadata": {
  "kernelspec": {
   "display_name": "Python 3 (ipykernel)",
   "language": "python",
   "name": "python3"
  },
  "language_info": {
   "codemirror_mode": {
    "name": "ipython",
    "version": 3
   },
   "file_extension": ".py",
   "mimetype": "text/x-python",
   "name": "python",
   "nbconvert_exporter": "python",
   "pygments_lexer": "ipython3",
   "version": "3.12.1"
  }
 },
 "nbformat": 4,
 "nbformat_minor": 5
}
