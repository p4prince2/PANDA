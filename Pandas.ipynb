{
 "cells": [
  {
   "cell_type": "markdown",
   "id": "7bdde47d-d335-47f1-9bc0-258716a3a558",
   "metadata": {},
   "source": [
    "## Pandas"
   ]
  },
  {
   "cell_type": "code",
   "execution_count": null,
   "id": "eb80f818-bdf7-4ddb-bcaa-7785fe6b9be4",
   "metadata": {},
   "outputs": [],
   "source": [
    "### pip install pandas"
   ]
  },
  {
   "cell_type": "code",
   "execution_count": 5,
   "id": "861d7240-23f3-4e6d-adac-7db1352d72e6",
   "metadata": {},
   "outputs": [],
   "source": [
    "import pandas as pd"
   ]
  },
  {
   "cell_type": "code",
   "execution_count": 2,
   "id": "80b0deae-0eca-4c4f-9124-1ad8dc7d716e",
   "metadata": {},
   "outputs": [
    {
     "name": "stdout",
     "output_type": "stream",
     "text": [
      "0    1\n",
      "1    2\n",
      "2    3\n",
      "3    5\n",
      "4    6\n",
      "dtype: int64\n"
     ]
    }
   ],
   "source": [
    "l = [1,2,3,5,6]\n",
    "pd_sr = pd.Series(l)\n",
    "print(pd_sr)"
   ]
  },
  {
   "cell_type": "code",
   "execution_count": 3,
   "id": "98814b60-d949-4c1f-8d7d-4ba327d955eb",
   "metadata": {},
   "outputs": [
    {
     "name": "stdout",
     "output_type": "stream",
     "text": [
      "a    (1, 1)\n",
      "b    (2, 2)\n",
      "c    (3, 3)\n",
      "d    (4, 4)\n",
      "e    (5, 5)\n",
      "dtype: object\n"
     ]
    }
   ],
   "source": [
    "l = [('1',1),('2',2),('3',3),('4',4),('5',5)]\n",
    "sr = pd.Series(l, index=['a','b','c','d','e'])\n",
    "print(sr)"
   ]
  },
  {
   "cell_type": "code",
   "execution_count": 4,
   "id": "29008d04-330b-4200-abbb-4304ad3e517f",
   "metadata": {},
   "outputs": [
    {
     "name": "stdout",
     "output_type": "stream",
     "text": [
      "ram      15\n",
      "shyam    14\n",
      "gita     10\n",
      "dtype: int64\n"
     ]
    }
   ],
   "source": [
    "d = {\"ram\":15,\"shyam\":14,\"gita\":10}\n",
    "sr = pd.Series(d)\n",
    "print(sr)\n"
   ]
  },
  {
   "cell_type": "code",
   "execution_count": 5,
   "id": "477f8ced-8379-46fe-8530-03dc65a1ae81",
   "metadata": {},
   "outputs": [
    {
     "name": "stdout",
     "output_type": "stream",
     "text": [
      "   ram  shyam  gita\n",
      "0   15     14    10\n",
      "1   15     14    10\n"
     ]
    }
   ],
   "source": [
    "## 2-d\n",
    "##Data frame\n",
    "d = [{\"ram\":15,\"shyam\":14,\"gita\":10},{\"ram\":15,\"shyam\":14,\"gita\":10}]\n",
    "df=pd.DataFrame(d)\n",
    "print(df)"
   ]
  },
  {
   "cell_type": "code",
   "execution_count": 6,
   "id": "156376df-eea8-4244-b8a4-76bc21c88660",
   "metadata": {},
   "outputs": [
    {
     "name": "stdout",
     "output_type": "stream",
     "text": [
      "   Name  Age\n",
      "0  sita   12\n",
      "1  gita   10\n",
      "2   ram   15\n"
     ]
    }
   ],
   "source": [
    "l=[[\"sita\",12],[\"gita\",10],[\"ram\",15]]\n",
    "df = pd.DataFrame(l,columns=[\"Name\",\"Age\"])\n",
    "print(df)"
   ]
  },
  {
   "cell_type": "code",
   "execution_count": 5,
   "id": "2ee41578-95e1-4f06-920d-834d37044635",
   "metadata": {},
   "outputs": [
    {
     "name": "stdout",
     "output_type": "stream",
     "text": [
      "0    12\n",
      "1    10\n",
      "2    15\n",
      "Name: Age, dtype: int64\n"
     ]
    }
   ],
   "source": [
    "l=[[\"sita\",12],[\"gita\",10],[\"ram\",15]]\n",
    "df = pd.DataFrame(l,columns=[\"Name\",\"Age\"])\n",
    "print(df[\"Age\"])"
   ]
  },
  {
   "cell_type": "code",
   "execution_count": 8,
   "id": "5600ebb3-302f-41bb-a476-408a9b40d4fe",
   "metadata": {},
   "outputs": [
    {
     "name": "stdout",
     "output_type": "stream",
     "text": [
      "   Name  Age\n",
      "0  gita    1\n",
      "1  sita    2\n"
     ]
    }
   ],
   "source": [
    "l = {\"Name\":[\"gita\",\"sita\"],\"Age\":[1,2]}\n",
    "df = pd.DataFrame(l,columns=[\"Name\",\"Age\"])\n",
    "print(df)"
   ]
  },
  {
   "cell_type": "code",
   "execution_count": 16,
   "id": "06d86cc6-d224-4a6f-8edc-912699f5c3d3",
   "metadata": {},
   "outputs": [
    {
     "name": "stdout",
     "output_type": "stream",
     "text": [
      "          ITEM  QUANTITY   RATE   AMOUNT\n",
      "0      CABINET        40   2356    94240\n",
      "1          DVD        45   4000   180000\n",
      "2          HDD        20   4523    90460\n",
      "3          HDD        36   8923   321228\n",
      "4          HDD        63   2568   161784\n",
      "5   KEY BOARD         36   1500    54000\n",
      "6   KEYV BOARD        78   1295   101010\n",
      "7          LCD        17   2510    42670\n",
      "8          LCD        45   2563   115335\n",
      "9          LCD        78  12000   936000\n",
      "10         LED        45  98000  4410000\n",
      "11         LED        55   5000   275000\n",
      "12      MOUSE         49    500    24500\n",
      "13      MOUSE         71   7854   557634\n",
      "14        RAM         12   8000    96000\n",
      "15        RAM         24   4710   113040\n",
      "16        RAM         25   5000   125000\n",
      "17        RAM         89   1204   107156\n",
      "18         UPS        19   4895    93005\n"
     ]
    }
   ],
   "source": [
    "### reading csv file\n",
    "file = pd.read_csv(r\"C:\\Users\\lenovo\\Desktop\\Data set\\data.csv\")\n",
    "print(file)"
   ]
  },
  {
   "cell_type": "code",
   "execution_count": 4,
   "id": "76981677-3c6f-4a3e-9576-62b6c755492a",
   "metadata": {},
   "outputs": [
    {
     "name": "stdout",
     "output_type": "stream",
     "text": [
      "      ITEM  QUANTITY  RATE  AMOUNT\n",
      "0  CABINET        40  2356   94240\n",
      "1      DVD        45  4000  180000\n",
      "2      HDD        20  4523   90460\n",
      "3      HDD        36  8923  321228\n",
      "4      HDD        63  2568  161784\n"
     ]
    }
   ],
   "source": [
    "### head method\n",
    "print(file.head())"
   ]
  },
  {
   "cell_type": "code",
   "execution_count": 5,
   "id": "505995cc-a0f3-405a-a62e-af70b01b8e90",
   "metadata": {},
   "outputs": [
    {
     "name": "stdout",
     "output_type": "stream",
     "text": [
      "    ITEM  QUANTITY  RATE  AMOUNT\n",
      "14  RAM         12  8000   96000\n",
      "15  RAM         24  4710  113040\n",
      "16  RAM         25  5000  125000\n",
      "17  RAM         89  1204  107156\n",
      "18   UPS        19  4895   93005\n"
     ]
    }
   ],
   "source": [
    "### tail method\n",
    "print(file.tail())"
   ]
  },
  {
   "cell_type": "code",
   "execution_count": 6,
   "id": "6c972d79-75ab-4102-bc95-3c7390c74ae9",
   "metadata": {},
   "outputs": [
    {
     "name": "stdout",
     "output_type": "stream",
     "text": [
      "         ITEM  QUANTITY   RATE  AMOUNT\n",
      "0     CABINET        40   2356   94240\n",
      "1         DVD        45   4000  180000\n",
      "2         HDD        20   4523   90460\n",
      "3         HDD        36   8923  321228\n",
      "4         HDD        63   2568  161784\n",
      "5  KEY BOARD         36   1500   54000\n",
      "6  KEYV BOARD        78   1295  101010\n",
      "7         LCD        17   2510   42670\n",
      "8         LCD        45   2563  115335\n",
      "9         LCD        78  12000  936000\n"
     ]
    }
   ],
   "source": [
    "print(file.head(10))"
   ]
  },
  {
   "cell_type": "code",
   "execution_count": 7,
   "id": "94789f4f-58ab-4353-a3b4-0ca62d884ac9",
   "metadata": {},
   "outputs": [
    {
     "name": "stdout",
     "output_type": "stream",
     "text": [
      "      ITEM  QUANTITY   RATE   AMOUNT\n",
      "9      LCD        78  12000   936000\n",
      "10     LED        45  98000  4410000\n",
      "11     LED        55   5000   275000\n",
      "12  MOUSE         49    500    24500\n",
      "13  MOUSE         71   7854   557634\n",
      "14    RAM         12   8000    96000\n",
      "15    RAM         24   4710   113040\n",
      "16    RAM         25   5000   125000\n",
      "17    RAM         89   1204   107156\n",
      "18     UPS        19   4895    93005\n"
     ]
    }
   ],
   "source": [
    "print(file.tail(10))"
   ]
  },
  {
   "cell_type": "code",
   "execution_count": 8,
   "id": "30a33267-1b20-4ac1-aeb1-ff3ed97e1e85",
   "metadata": {},
   "outputs": [
    {
     "name": "stdout",
     "output_type": "stream",
     "text": [
      "         ITEM  QUANTITY  RATE  AMOUNT\n",
      "4         HDD        63  2568  161784\n",
      "5  KEY BOARD         36  1500   54000\n",
      "6  KEYV BOARD        78  1295  101010\n"
     ]
    }
   ],
   "source": [
    "### Loc method\n",
    "print(file.loc[4:6])"
   ]
  },
  {
   "cell_type": "code",
   "execution_count": 11,
   "id": "efb91ea7-53ae-42ea-8bb2-d20224ab5ea5",
   "metadata": {},
   "outputs": [
    {
     "name": "stdout",
     "output_type": "stream",
     "text": [
      "   ITEM  QUANTITY   RATE   AMOUNT\n",
      "4   HDD        63   2568   161784\n",
      "8   LCD        45   2563   115335\n",
      "10  LED        45  98000  4410000\n"
     ]
    }
   ],
   "source": [
    "print(file.loc[[4,8,10]])"
   ]
  },
  {
   "cell_type": "code",
   "execution_count": 12,
   "id": "5b3f758b-9687-4321-b0bc-5c78a0232ebc",
   "metadata": {},
   "outputs": [
    {
     "name": "stdout",
     "output_type": "stream",
     "text": [
      "         ITEM  RATE\n",
      "4         HDD  2568\n",
      "5  KEY BOARD   1500\n",
      "6  KEYV BOARD  1295\n"
     ]
    }
   ],
   "source": [
    "##  loc method to acces row and column \n",
    "print(file.loc[4:6,['ITEM',\"RATE\"]])"
   ]
  },
  {
   "cell_type": "code",
   "execution_count": 13,
   "id": "e8d40661-6671-4b7a-8839-6ddce090a37e",
   "metadata": {},
   "outputs": [
    {
     "name": "stdout",
     "output_type": "stream",
     "text": [
      "Index(['ITEM', 'QUANTITY', 'RATE', 'AMOUNT'], dtype='object')\n"
     ]
    }
   ],
   "source": [
    "### COLUMN NAMES FIND\n",
    "print(file.columns)"
   ]
  },
  {
   "cell_type": "code",
   "execution_count": 17,
   "id": "e9d12d60-37b7-42fb-ac1f-1b650808f8dd",
   "metadata": {},
   "outputs": [
    {
     "name": "stdout",
     "output_type": "stream",
     "text": [
      "      ITEM  QUANTITY  RATE  AMOUNT\n",
      "0  CABINET        40  2356   94240\n",
      "1      DVD        45  4000  180000\n",
      "2      HDD        20  4523   90460\n",
      "3      HDD        36  8923  321228\n",
      "4      HDD        63  2568  161784\n",
      "CABINET\n",
      "HDD\n",
      "94240\n"
     ]
    }
   ],
   "source": [
    "## iloc method indexing\n",
    "print(file.head())\n",
    "\n",
    "## pass indexin row aur column\n",
    "print(file.iloc[0,0])\n",
    "print(file.iloc[3,0])\n",
    "print(file.iloc[0,3])"
   ]
  },
  {
   "cell_type": "code",
   "execution_count": 18,
   "id": "4acb254c-b106-4a3d-b676-ffbed2d87d0e",
   "metadata": {},
   "outputs": [
    {
     "name": "stdout",
     "output_type": "stream",
     "text": [
      "      ITEM  QUANTITY  RATE\n",
      "0  CABINET        40  2356\n",
      "1      DVD        45  4000\n",
      "2      HDD        20  4523\n",
      "3      HDD        36  8923\n",
      "4      HDD        63  2568\n"
     ]
    }
   ],
   "source": [
    "### slicing of row and column in ilock method\n",
    "print(file.iloc[0:5,0:3])"
   ]
  },
  {
   "cell_type": "code",
   "execution_count": 19,
   "id": "d128ca26-ad0a-4b36-8f29-fbde1b3f9c9b",
   "metadata": {},
   "outputs": [
    {
     "name": "stdout",
     "output_type": "stream",
     "text": [
      "         ITEM  QUANTITY  RATE\n",
      "0     CABINET        40  2356\n",
      "3         HDD        36  8923\n",
      "5  KEY BOARD         36  1500\n"
     ]
    }
   ],
   "source": [
    "print(file.iloc[[0,3,5],[0,1,2]])"
   ]
  },
  {
   "cell_type": "code",
   "execution_count": 20,
   "id": "3da85696-527a-45c8-95b1-4a50689a24f6",
   "metadata": {},
   "outputs": [
    {
     "name": "stdout",
     "output_type": "stream",
     "text": [
      "        QUANTITY          RATE        AMOUNT\n",
      "count  19.000000     19.000000  1.900000e+01\n",
      "mean   44.578947   9336.894737  4.156875e+05\n",
      "std    22.886958  21679.706981  9.914375e+05\n",
      "min    12.000000    500.000000  2.450000e+04\n",
      "25%    24.500000   2433.000000  9.362250e+04\n",
      "50%    45.000000   4523.000000  1.130400e+05\n",
      "75%    59.000000   6427.000000  2.275000e+05\n",
      "max    89.000000  98000.000000  4.410000e+06\n"
     ]
    }
   ],
   "source": [
    "### describe method\n",
    "print(file.describe())"
   ]
  },
  {
   "cell_type": "code",
   "execution_count": 21,
   "id": "bc70a12e-9ced-47cf-b632-a25697b0fc18",
   "metadata": {},
   "outputs": [
    {
     "name": "stdout",
     "output_type": "stream",
     "text": [
      "QUANTITY        44.578947\n",
      "RATE          9336.894737\n",
      "AMOUNT      415687.473684\n",
      "Name: mean, dtype: float64\n"
     ]
    }
   ],
   "source": [
    "print(file.describe().loc['mean']) ## access any thing"
   ]
  },
  {
   "cell_type": "code",
   "execution_count": 24,
   "id": "d4be5094-2806-48a6-81ec-f630bfaeacbe",
   "metadata": {},
   "outputs": [
    {
     "data": {
      "text/html": [
       "<div>\n",
       "<style scoped>\n",
       "    .dataframe tbody tr th:only-of-type {\n",
       "        vertical-align: middle;\n",
       "    }\n",
       "\n",
       "    .dataframe tbody tr th {\n",
       "        vertical-align: top;\n",
       "    }\n",
       "\n",
       "    .dataframe thead th {\n",
       "        text-align: right;\n",
       "    }\n",
       "</style>\n",
       "<table border=\"1\" class=\"dataframe\">\n",
       "  <thead>\n",
       "    <tr style=\"text-align: right;\">\n",
       "      <th></th>\n",
       "      <th>QUANTITY</th>\n",
       "      <th>RATE</th>\n",
       "    </tr>\n",
       "  </thead>\n",
       "  <tbody>\n",
       "    <tr>\n",
       "      <th>min</th>\n",
       "      <td>12.000000</td>\n",
       "      <td>500.0</td>\n",
       "    </tr>\n",
       "    <tr>\n",
       "      <th>max</th>\n",
       "      <td>89.000000</td>\n",
       "      <td>98000.0</td>\n",
       "    </tr>\n",
       "    <tr>\n",
       "      <th>mean</th>\n",
       "      <td>44.578947</td>\n",
       "      <td>NaN</td>\n",
       "    </tr>\n",
       "  </tbody>\n",
       "</table>\n",
       "</div>"
      ],
      "text/plain": [
       "       QUANTITY     RATE\n",
       "min   12.000000    500.0\n",
       "max   89.000000  98000.0\n",
       "mean  44.578947      NaN"
      ]
     },
     "execution_count": 24,
     "metadata": {},
     "output_type": "execute_result"
    }
   ],
   "source": [
    "### aggregate function (## alternate of describe method)\n",
    "file.aggregate({'QUANTITY':['min','max','mean'],'RATE':['min','max']})"
   ]
  },
  {
   "cell_type": "code",
   "execution_count": 25,
   "id": "249fb252-032d-4ec1-b82b-d1c436169867",
   "metadata": {},
   "outputs": [
    {
     "name": "stdout",
     "output_type": "stream",
     "text": [
      "   ram  shyam  gita\n",
      "0   15     14    10\n",
      "1   15     14    10\n",
      "   ram  shyam  gita\n",
      "0   17     16    12\n",
      "1   17     16    12\n"
     ]
    }
   ],
   "source": [
    "### apply method\n",
    "l = [{\"ram\":15,\"shyam\":14,\"gita\":10},{\"ram\":15,\"shyam\":14,\"gita\":10}]\n",
    "df = pd.DataFrame(l)\n",
    "print(df)\n",
    "def fun(val):\n",
    "    return val+2\n",
    "newdf = df.apply(fun)\n",
    "print(newdf)"
   ]
  },
  {
   "cell_type": "code",
   "execution_count": 26,
   "id": "c681b6e5-7334-48fa-88d7-c7158fab8b8a",
   "metadata": {},
   "outputs": [
    {
     "name": "stdout",
     "output_type": "stream",
     "text": [
      "   ram  shyam  gita\n",
      "0   15     14    10\n",
      "1   15     14    10\n",
      "   ram  shyam  gita\n",
      "0   17     16    12\n",
      "1   17     16    12\n"
     ]
    }
   ],
   "source": [
    "l = [{\"ram\":15,\"shyam\":14,\"gita\":10},{\"ram\":15,\"shyam\":14,\"gita\":10}]\n",
    "df = pd.DataFrame(l)\n",
    "print(df)\n",
    "\n",
    "newdf = df.apply(lambda val:val+2)\n",
    "print(newdf)"
   ]
  },
  {
   "cell_type": "code",
   "execution_count": 18,
   "id": "303f16dc-a99b-459f-9b3f-8f5c0c0af3f6",
   "metadata": {},
   "outputs": [
    {
     "name": "stdout",
     "output_type": "stream",
     "text": [
      "      ITEM  QUANTITY  RATE  AMOUNT\n",
      "0  CABINET        40  2356   94240\n",
      "1      DVD        45  4000  180000\n",
      "2      HDD        20  4523   90460\n",
      "3      HDD        36  8923  321228\n",
      "4      HDD        63  2568  161784\n",
      "      ITEM  QUANTITY  AMOUNT\n",
      "0  CABINET        40   94240\n",
      "1      DVD        45  180000\n",
      "2      HDD        20   90460\n",
      "3      HDD        36  321228\n",
      "4      HDD        63  161784\n"
     ]
    }
   ],
   "source": [
    "\n",
    "\n",
    "print(file.head())\n",
    "file.drop(['RATE'],axis =1,inplace=True)\n",
    "print(file.head())"
   ]
  },
  {
   "cell_type": "code",
   "execution_count": 6,
   "id": "4fb458d5-d3c4-41e3-8c8f-1d4546ba9fab",
   "metadata": {},
   "outputs": [
    {
     "name": "stdout",
     "output_type": "stream",
     "text": [
      "   ram  shyam  gita\n",
      "0   15     14    10\n",
      "1   15     14    10\n",
      "   sum  ram  shyam  gita\n",
      "0    1   15     14    10\n",
      "1    2   15     14    10\n",
      "2   23   52     12    30\n"
     ]
    }
   ],
   "source": [
    "### insert values in column and row\n",
    "l = [{\"ram\":15,\"shyam\":14,\"gita\":10},{\"ram\":15,\"shyam\":14,\"gita\":10}]\n",
    "df = pd.DataFrame(l)\n",
    "print(df)\n",
    "df.insert(0,\"sum\",[1,2]) ## column \n",
    "df.loc[2]=[23,52,12,30] ## row\n",
    "print(df)"
   ]
  },
  {
   "cell_type": "code",
   "execution_count": 29,
   "id": "c2c30c74-3a4f-448e-a51b-352f4c1313c5",
   "metadata": {},
   "outputs": [
    {
     "name": "stdout",
     "output_type": "stream",
     "text": [
      "      ITEM  QUANTITY  AMOUNT  sum\n",
      "0  CABINET        40   94240    1\n",
      "1      DVD        45  180000    2\n",
      "2      HDD        20   90460    3\n",
      "3      HDD        36  321228    4\n",
      "4      HDD        63  161784    5\n"
     ]
    }
   ],
   "source": [
    "newfile=file.head()\n",
    "newfile.insert(3,\"sum\",[1,2,3,4,5])\n",
    "print(newfile)"
   ]
  },
  {
   "cell_type": "code",
   "execution_count": 7,
   "id": "e0e7ea6f-2543-4c3b-8d8b-a2575243fa2d",
   "metadata": {},
   "outputs": [
    {
     "name": "stdout",
     "output_type": "stream",
     "text": [
      "         ITEM  QUANTITY   RATE  AMOUNT\n",
      "0     CABINET        40   2356   94240\n",
      "1         DVD        45   4000  180000\n",
      "2         HDD        20   4523   90460\n",
      "3         HDD        36   8923  321228\n",
      "4         HDD        63   2568  161784\n",
      "5  KEY BOARD         36   1500   54000\n",
      "6  KEYV BOARD        78   1295  101010\n",
      "7         LCD        17   2510   42670\n",
      "8         LCD        45   2563  115335\n",
      "9         LCD        78  12000  936000\n",
      "         ITEM  QUANTITY   RATE  AMOUNT\n",
      "7         LCD        17   2510   42670\n",
      "2         HDD        20   4523   90460\n",
      "3         HDD        36   8923  321228\n",
      "5  KEY BOARD         36   1500   54000\n",
      "0     CABINET        40   2356   94240\n",
      "1         DVD        45   4000  180000\n",
      "8         LCD        45   2563  115335\n",
      "4         HDD        63   2568  161784\n",
      "6  KEYV BOARD        78   1295  101010\n",
      "9         LCD        78  12000  936000\n"
     ]
    }
   ],
   "source": [
    "### sort values\n",
    "newfile=file.head(10)\n",
    "x=newfile.sort_values(['QUANTITY'],axis=0,inplace=False) \n",
    "print(newfile)\n",
    "print(x)"
   ]
  },
  {
   "cell_type": "code",
   "execution_count": 35,
   "id": "e08446c3-bb5d-4601-9472-fdcd7b5b7a67",
   "metadata": {},
   "outputs": [
    {
     "name": "stdout",
     "output_type": "stream",
     "text": [
      "         ITEM  QUANTITY  AMOUNT\n",
      "6  KEYV BOARD        78  101010\n",
      "9         LCD        78  936000\n",
      "4         HDD        63  161784\n",
      "1         DVD        45  180000\n",
      "8         LCD        45  115335\n",
      "0     CABINET        40   94240\n",
      "3         HDD        36  321228\n",
      "5  KEY BOARD         36   54000\n",
      "2         HDD        20   90460\n",
      "7         LCD        17   42670\n"
     ]
    },
    {
     "name": "stderr",
     "output_type": "stream",
     "text": [
      "C:\\Users\\lenovo\\AppData\\Local\\Temp\\ipykernel_7012\\2323269283.py:3: SettingWithCopyWarning: \n",
      "A value is trying to be set on a copy of a slice from a DataFrame\n",
      "\n",
      "See the caveats in the documentation: https://pandas.pydata.org/pandas-docs/stable/user_guide/indexing.html#returning-a-view-versus-a-copy\n",
      "  newfile.sort_values(['QUANTITY'],axis=0,inplace=True,ascending=False)\n"
     ]
    }
   ],
   "source": [
    "### sort values\n",
    "newfile=file.head(10)\n",
    "newfile.sort_values(['QUANTITY'],axis=0,inplace=True,ascending=False)\n",
    "print(newfile)"
   ]
  },
  {
   "cell_type": "code",
   "execution_count": 43,
   "id": "02017081-2e52-47e4-bbd1-4f513e618435",
   "metadata": {},
   "outputs": [
    {
     "name": "stdout",
     "output_type": "stream",
     "text": [
      "         ITEM  QUANTITY  AMOUNT\n",
      "7         LCD        17   42670\n",
      "5  KEY BOARD         36   54000\n",
      "2         HDD        20   90460\n",
      "0     CABINET        40   94240\n",
      "6  KEYV BOARD        78  101010\n",
      "8         LCD        45  115335\n",
      "4         HDD        63  161784\n",
      "1         DVD        45  180000\n",
      "3         HDD        36  321228\n",
      "9         LCD        78  936000\n"
     ]
    },
    {
     "name": "stderr",
     "output_type": "stream",
     "text": [
      "C:\\Users\\lenovo\\AppData\\Local\\Temp\\ipykernel_7012\\3741052659.py:3: SettingWithCopyWarning: \n",
      "A value is trying to be set on a copy of a slice from a DataFrame\n",
      "\n",
      "See the caveats in the documentation: https://pandas.pydata.org/pandas-docs/stable/user_guide/indexing.html#returning-a-view-versus-a-copy\n",
      "  newfile.sort_values(['AMOUNT'],axis=0,inplace=True)\n"
     ]
    }
   ],
   "source": [
    "### sort values\n",
    "newfile=file.head(10)\n",
    "newfile.sort_values(['AMOUNT'],axis=0,inplace=True)\n",
    "print(newfile)"
   ]
  },
  {
   "cell_type": "code",
   "execution_count": 42,
   "id": "412a70f4-86d1-4329-b15a-b9757343db4d",
   "metadata": {},
   "outputs": [
    {
     "name": "stdout",
     "output_type": "stream",
     "text": [
      "         ITEM  QUANTITY  AMOUNT\n",
      "7         LCD        17   42670\n",
      "2         HDD        20   90460\n",
      "5  KEY BOARD         36   54000\n",
      "3         HDD        36  321228\n",
      "0     CABINET        40   94240\n",
      "8         LCD        45  115335\n",
      "1         DVD        45  180000\n",
      "4         HDD        63  161784\n",
      "6  KEYV BOARD        78  101010\n",
      "9         LCD        78  936000\n"
     ]
    },
    {
     "name": "stderr",
     "output_type": "stream",
     "text": [
      "C:\\Users\\lenovo\\AppData\\Local\\Temp\\ipykernel_7012\\3161100415.py:3: SettingWithCopyWarning: \n",
      "A value is trying to be set on a copy of a slice from a DataFrame\n",
      "\n",
      "See the caveats in the documentation: https://pandas.pydata.org/pandas-docs/stable/user_guide/indexing.html#returning-a-view-versus-a-copy\n",
      "  newfile.sort_values(['QUANTITY','AMOUNT'],axis=0,inplace=True)\n"
     ]
    }
   ],
   "source": [
    "### sort values\n",
    "newfile=file.head(10)\n",
    "newfile.sort_values(['QUANTITY','AMOUNT'],axis=0,inplace=True)\n",
    "print(newfile)"
   ]
  },
  {
   "cell_type": "code",
   "execution_count": 44,
   "id": "3bc7638e-b392-42a8-867c-55cf630b9edd",
   "metadata": {},
   "outputs": [
    {
     "name": "stdout",
     "output_type": "stream",
     "text": [
      "<class 'pandas.core.frame.DataFrame'>\n",
      "RangeIndex: 19 entries, 0 to 18\n",
      "Data columns (total 3 columns):\n",
      " #   Column    Non-Null Count  Dtype \n",
      "---  ------    --------------  ----- \n",
      " 0   ITEM      19 non-null     object\n",
      " 1   QUANTITY  19 non-null     int64 \n",
      " 2   AMOUNT    19 non-null     int64 \n",
      "dtypes: int64(2), object(1)\n",
      "memory usage: 588.0+ bytes\n"
     ]
    }
   ],
   "source": [
    "file.info()"
   ]
  },
  {
   "cell_type": "code",
   "execution_count": 47,
   "id": "7e0b57ad-d796-4898-90d7-fa7d1b45116d",
   "metadata": {},
   "outputs": [
    {
     "data": {
      "text/plain": [
       "ITEM        0\n",
       "QUANTITY    0\n",
       "AMOUNT      0\n",
       "dtype: int64"
      ]
     },
     "execution_count": 47,
     "metadata": {},
     "output_type": "execute_result"
    }
   ],
   "source": [
    "## find null values\n",
    "file.isnull().sum()"
   ]
  },
  {
   "cell_type": "code",
   "execution_count": null,
   "id": "5b2d690c-eb57-48a5-898a-fde69d713fa5",
   "metadata": {},
   "outputs": [],
   "source": [
    "## remove the null values from dataset\n",
    "file.dropna(inplace=True)"
   ]
  },
  {
   "cell_type": "code",
   "execution_count": null,
   "id": "f9c360a5-a1d2-4d82-aa28-7d5e63b97f53",
   "metadata": {},
   "outputs": [],
   "source": [
    "### read excel file\n",
    "ex = pd.ExcelFile(\"path.xlsx\")\n",
    "print(ex.sheet_names)\n",
    "df=ex.parse('Sheet2')\n",
    "print(df.head())"
   ]
  },
  {
   "cell_type": "code",
   "execution_count": null,
   "id": "eec7b848-6be8-4201-a4c3-6fbd31c3a019",
   "metadata": {},
   "outputs": [],
   "source": [
    "ex = pd.read_excel(\"path.xlsx\")\n",
    "print(ex.head())"
   ]
  }
 ],
 "metadata": {
  "kernelspec": {
   "display_name": "Python 3 (ipykernel)",
   "language": "python",
   "name": "python3"
  },
  "language_info": {
   "codemirror_mode": {
    "name": "ipython",
    "version": 3
   },
   "file_extension": ".py",
   "mimetype": "text/x-python",
   "name": "python",
   "nbconvert_exporter": "python",
   "pygments_lexer": "ipython3",
   "version": "3.12.1"
  }
 },
 "nbformat": 4,
 "nbformat_minor": 5
}
